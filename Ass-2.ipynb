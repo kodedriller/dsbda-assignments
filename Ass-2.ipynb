{
 "cells": [
  {
   "attachments": {},
   "cell_type": "markdown",
   "metadata": {},
   "source": [
    "**<span style=\"color:red\">Import all the required Python Libraries</span>**"
   ]
  },
  {
   "cell_type": "code",
   "execution_count": 4,
   "metadata": {},
   "outputs": [],
   "source": [
    "import matplotlib.pyplot as plt\n",
    "import numpy as np\n",
    "import pandas as pd\n",
    "import seaborn as sns"
   ]
  },
  {
   "attachments": {},
   "cell_type": "markdown",
   "metadata": {},
   "source": [
    "**<span style='color:red'>Importing dataset</span>**"
   ]
  },
  {
   "cell_type": "code",
   "execution_count": 5,
   "metadata": {},
   "outputs": [
    {
     "ename": "SyntaxError",
     "evalue": "(unicode error) 'unicodeescape' codec can't decode bytes in position 2-3: truncated \\UXXXXXXXX escape (117487666.py, line 1)",
     "output_type": "error",
     "traceback": [
      "\u001b[1;36m  Cell \u001b[1;32mIn[5], line 1\u001b[1;36m\u001b[0m\n\u001b[1;33m    df = pd.read_csv('C:\\Users\\Manish Bishnoi\\Desktop\\Assignments\\DSBDA\\Dataset\\a2.csv')\u001b[0m\n\u001b[1;37m                                                                                       ^\u001b[0m\n\u001b[1;31mSyntaxError\u001b[0m\u001b[1;31m:\u001b[0m (unicode error) 'unicodeescape' codec can't decode bytes in position 2-3: truncated \\UXXXXXXXX escape\n"
     ]
    }
   ],
   "source": [
    "df = pd.read_csv('C:\\Users\\Manish Bishnoi\\Desktop\\Assignments\\DSBDA\\Dataset\\a2.csv')\n",
    "print(df.head())"
   ]
  },
  {
   "attachments": {},
   "cell_type": "markdown",
   "metadata": {},
   "source": [
    "**<span style='color:red'>1.Scan all variables for missing values and inconsistencies. If there are missing values and/or inconsistencies, use any of the suitable techniques to deal with them.  </span>**"
   ]
  },
  {
   "cell_type": "code",
   "execution_count": null,
   "metadata": {},
   "outputs": [
    {
     "name": "stdout",
     "output_type": "stream",
     "text": [
      "gender                   0\n",
      "math score               1\n",
      "reading score            0\n",
      "writing score            1\n",
      "Placement Score          1\n",
      "placement offer count    0\n",
      "Region                   1\n",
      "dtype: int64\n",
      "\n",
      " ----------------------------- \n",
      "\n",
      "       writing score  Placement Score  placement offer count\n",
      "count       8.000000         8.000000               9.000000\n",
      "mean       77.000000        62.125000               1.777778\n",
      "std        13.416408        23.295846               1.201850\n",
      "min        52.000000        12.000000               0.000000\n",
      "25%        72.250000        53.500000               1.000000\n",
      "50%        76.500000        72.000000               2.000000\n",
      "75%        88.250000        78.000000               2.000000\n",
      "max        93.000000        81.000000               4.000000\n"
     ]
    }
   ],
   "source": [
    "# Check for missing values\n",
    "print(df.isnull().sum())\n",
    "print('\\n','-----------------------------','\\n')\n",
    "\n",
    "# Check for inconsistencies\n",
    "print(df.describe())"
   ]
  },
  {
   "cell_type": "code",
   "execution_count": null,
   "metadata": {},
   "outputs": [],
   "source": [
    "# Drop missing values\n",
    "print(df)\n",
    "df = df.dropna()\n",
    "print(df)\n"
   ]
  },
  {
   "cell_type": "code",
   "execution_count": null,
   "metadata": {},
   "outputs": [],
   "source": [
    "# Impute missing values with mean\n",
    "df['Placement Score'].fillna(df['Placement Score'].mean(), inplace=True)\n",
    "print(df)\n"
   ]
  },
  {
   "attachments": {},
   "cell_type": "markdown",
   "metadata": {},
   "source": [
    "**<span style=\"color:red\">2.\tScan all numeric variables for outliers. If there are outliers, use any of the suitable techniques to deal with them</span>**"
   ]
  },
  {
   "cell_type": "code",
   "execution_count": null,
   "metadata": {},
   "outputs": [],
   "source": [
    "numeric_cols = ['math score', 'reading score', 'writing score', 'Placement Score', 'placement offer count']\n",
    "\n",
    "# Calculate summary statistics for each numeric column\n",
    "summary_stats = df[numeric_cols].describe()\n",
    "\n",
    "# Calculate the interquartile range (IQR) for each numeric column\n",
    "Q1 = summary_stats.loc['25%']\n",
    "Q3 = summary_stats.loc['75%']\n",
    "IQR = Q3 - Q1\n",
    "\n",
    "# Identify potential outliers for each numeric column\n",
    "lower_bounds = Q1 - (1.5 * IQR)\n",
    "upper_bounds = Q3 + (1.5 * IQR)\n",
    "outliers = ((df[numeric_cols] < lower_bounds) | (df[numeric_cols] > upper_bounds))\n",
    "\n",
    "# Replace outliers with NaN values\n",
    "df[numeric_cols] = np.where(outliers, np.nan, df[numeric_cols])"
   ]
  }
 ],
 "metadata": {
  "kernelspec": {
   "display_name": "Python 3",
   "language": "python",
   "name": "python3"
  },
  "language_info": {
   "codemirror_mode": {
    "name": "ipython",
    "version": 3
   },
   "file_extension": ".py",
   "mimetype": "text/x-python",
   "name": "python",
   "nbconvert_exporter": "python",
   "pygments_lexer": "ipython3",
   "version": "3.11.2"
  },
  "orig_nbformat": 4
 },
 "nbformat": 4,
 "nbformat_minor": 2
}
